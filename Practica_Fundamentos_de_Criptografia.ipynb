{
  "nbformat": 4,
  "nbformat_minor": 0,
  "metadata": {
    "colab": {
      "name": "Practica_Fundamentos_de_Criptografia.ipynb",
      "provenance": []
    },
    "kernelspec": {
      "name": "python3",
      "display_name": "Python 3"
    }
  },
  "cells": [
    {
      "cell_type": "markdown",
      "metadata": {
        "id": "rubq7FKVa5hY"
      },
      "source": [
        "# <font color='purple'>Práctica Fundamentos de Criptografía</font> \n",
        "---\n",
        "![](https://www.criptotendencias.com/wp-content/uploads/2018/12/cifrado-criptomonedas.jpg)\n",
        "\n"
      ]
    },
    {
      "cell_type": "markdown",
      "metadata": {
        "id": "8GrL6lbycko_"
      },
      "source": [
        "## <font color=\"teal\"> Ejercicio 1: Cifrado y Descifrado </font>\n",
        "\n",
        "En este ejercicio vamos cifrar y decifrar textos de la manera que lo haría un cifrador de flujo, es decir, de carácter en carácter. \n",
        "\n",
        "Para ello se necesita:\n",
        "  1. Generar una secuencia super-creciente de números positivos.\n",
        "  2. Generar las llaves para el cifrador.\n",
        "  3. Utilizaremos algunas librerías ya hechas para  binarizar el mensaje."
      ]
    },
    {
      "cell_type": "code",
      "metadata": {
        "colab": {
          "base_uri": "https://localhost:8080/"
        },
        "id": "G90EFFbOZPzc",
        "outputId": "278c5c30-0321-4964-93dc-996ec1d00202"
      },
      "source": [
        "import numpy as np\n",
        "import AritmeticaModular as am\n",
        "from random import randint\n",
        "\n",
        "\"\"\"\n",
        "    Genera una secuencia super-creciente de longitud k.\n",
        "    \n",
        "    Una secuencia super-creciente tiene k elementos donde\n",
        "    \n",
        "                    a_i > sum(a_0,...,a_(i - 1))\n",
        "                    \n",
        "    Un ejemplo: (1, 2, 4, 8, 16)\n",
        "    \n",
        "    k: longitud del bloque del mensaje\n",
        "\"\"\"\n",
        "def gen_super_creciente(k):\n",
        "    \n",
        "    # generar el primer elemento de la secuencia\n",
        "    sequence = [0]*k\n",
        "    sequence[0] = randint(1, k)\n",
        "    \n",
        "    for i in range(1, k):\n",
        "        sequence[i] = sum(sequence[:i]) + randint(sequence[i-1], sequence[i-1]*3)\n",
        "            \n",
        "    return np.array(sequence, dtype = np.uint32)\n",
        "\n",
        "gen_super_creciente(8)"
      ],
      "execution_count": 5,
      "outputs": [
        {
          "output_type": "execute_result",
          "data": {
            "text/plain": [
              "array([    6,    15,    63,   192,   801,  2324, 10030, 35940],\n",
              "      dtype=uint32)"
            ]
          },
          "metadata": {
            "tags": []
          },
          "execution_count": 5
        }
      ]
    },
    {
      "cell_type": "code",
      "metadata": {
        "colab": {
          "base_uri": "https://localhost:8080/"
        },
        "id": "LHlB85KIfQNQ",
        "outputId": "4af60352-af32-4224-bed5-e382b17c837e"
      },
      "source": [
        "\"\"\"\n",
        "    Genere las claves para el cifrador.\n",
        "    \n",
        "    Parametros:\n",
        "        block_length: longitud del bloque del mensaje\n",
        "    Return:\n",
        "        public_key: secuencia modificada\n",
        "        private_key: secuencia super-creciente original, n y u\n",
        "\"\"\"\n",
        "\n",
        "def generate_keys(block_length):\n",
        "    # generate a sequence\n",
        "    sequence = gen_super_creciente(block_length)\n",
        "    \n",
        "    n = sum(sequence) + sequence[randint(0,block_length-1)]*2\n",
        "    \n",
        "    found_u = False\n",
        "    \n",
        "    while not found_u:\n",
        "        \n",
        "        u = randint(1, n)\n",
        "        \n",
        "        if am.ext_euclides(n,u)[0] == 1: \n",
        "            found_u = True\n",
        "            \n",
        "    public_sequence = np.array(list(map(lambda a_i: (u*a_i) % n, sequence)), dtype = np.uint32)\n",
        "    \n",
        "    return public_sequence, (sequence, n, u)\n",
        "\n",
        "key_pub, key = generate_keys(8)\n",
        "print(\"Llave pública:\", key_pub)\n",
        "print(\"Llave privada:\", key[0], key[1], key[2])"
      ],
      "execution_count": 6,
      "outputs": [
        {
          "output_type": "stream",
          "text": [
            "Llave pública: [  569  8298  4552  2750 12328 12516  9950 11643]\n",
            "Llave privada: [   2    5   16   58  140  624 2210 6276] 13751 7160\n"
          ],
          "name": "stdout"
        }
      ]
    },
    {
      "cell_type": "markdown",
      "metadata": {
        "id": "apxufQGSgRek"
      },
      "source": [
        "Una vez generadas nuestras llaves, podemos pasar a realizar el cifrado del mensaje. Para cifrar el mensaje tendremos que pasar el string a binario, y para ello, usaremos las funciones *str_to_binlist* y *bin_to_str*. Una vez realizado esto, podremos pasar a a cifrar el mensaje en bloques de tamaño $k$."
      ]
    },
    {
      "cell_type": "code",
      "metadata": {
        "colab": {
          "base_uri": "https://localhost:8080/"
        },
        "id": "ngG0y1BIf7BA",
        "outputId": "fad6bf50-a844-47c2-9c79-d4ca89f96e13"
      },
      "source": [
        "from CifradoFlujo import bin_to_str, str_to_binlist\n",
        "\n",
        "\"\"\"\n",
        "                            Cifrador\n",
        "    \n",
        "    Esta función toma un mensaje y la llave\n",
        "    pública y encripta el mensaje realizando:\n",
        "            ___n\n",
        "            \\                 a_i * e_i\n",
        "            /__ 0\n",
        "            \n",
        "    donde a_i son los bits del mensaje y e_i\n",
        "    los elementos de la llave pública.\n",
        "    \n",
        "    Parametros:\n",
        "        - message: un str que contiene el mensaje simple.\n",
        "        - key_pub: llave pública\n",
        "\"\"\"\n",
        "def knapsack_cypher(message, key_pub):\n",
        "    # toma el tamaño del bloque\n",
        "    block_size = len(key_pub)\n",
        "    # transforma el mensaje a una lista binaria\n",
        "    binary_message = str_to_binlist(message)\n",
        "    # comprueba si el mensaje es divisible por el tamaño del bloque\n",
        "    # si no, se agregan ceros al final\n",
        "    while len(binary_message) % block_size != 0:\n",
        "        binary_message.append(0)\n",
        "    \n",
        "    cypher, binary_message = [], np.array(binary_message)\n",
        "     # cypher text\n",
        "    for i in range(0,len(binary_message), block_size):\n",
        "        cypher.append(np.sum(key_pub[binary_message[i:i + block_size] == 1]))\n",
        "        \n",
        "    return cypher\n",
        "\n",
        "\n",
        "encrypted = knapsack_cypher(\"Pon tu nombre aqui\", key_pub)\n",
        "\n",
        "print(\"Texto encriptado:\", encrypted)"
      ],
      "execution_count": 121,
      "outputs": [
        {
          "output_type": "stream",
          "text": [
            "Texto encriptado: [11048, 59287, 47644, 4552, 28116, 39759, 4552, 47644, 59287, 49337, 22800, 25550, 37009, 4552, 24493, 27243, 39759, 36821]\n"
          ],
          "name": "stdout"
        }
      ]
    },
    {
      "cell_type": "code",
      "metadata": {
        "colab": {
          "base_uri": "https://localhost:8080/",
          "height": 35
        },
        "id": "oLsMIqSTh_hJ",
        "outputId": "cab47e1f-5757-46ba-e1be-b68e2326632b"
      },
      "source": [
        "from AritmeticaModular import inverse\n",
        "\"\"\"\n",
        "                                        Descifrador\n",
        "                        \n",
        "Para descifrar un mensaje cifrado con este algoritmo,\n",
        "es necesario calcular v como u^{-1} mod n usando el\n",
        "algoritmo de Euclides.\n",
        "\n",
        "Luego, el mensaje se descifra:\n",
        "            _\n",
        "        b = vb* mod n\n",
        "            _     ___  \n",
        "            = v \\       e_i a*_i (mod n)\n",
        "                   /__\n",
        "            _          ___\n",
        "            = (uv) \\    e_i a_i\n",
        "                        /__\n",
        "            _   ___           \n",
        "            =   \\        e_i a_i   (mod n)\n",
        "                 /__\n",
        "                 \n",
        "Parametros:\n",
        "    - message: lista de enteros que representan el mensaje.\n",
        "    - key: llave privada.\n",
        "\"\"\"\n",
        "\n",
        "def knapsack_decypher(message, key):\n",
        "    # desplegar la clave privada y calcula\n",
        "    # el inverso de u mod n\n",
        "    p_key, n, u = key\n",
        "    v =  inverse(u, n)\n",
        "    # Concatenar listas en Python es muy simple si usa el operador + y dos listas.\n",
        "    # Esa es la razón para hacer decypher_message una lista vacía\n",
        "    decypher_message = []\n",
        "    # iniciar descifrador\n",
        "    for b in message:\n",
        "        # b_ = vb mod n\n",
        "        b_, aux = (b * v) % n, 0\n",
        "        # iniciar el algoritmo greedy (codicioso)\n",
        "        greedy_result = set()\n",
        "        for i in range(1, len(p_key) + 1):\n",
        "            if aux + p_key[-i] <= b_:\n",
        "                aux += p_key[-i]\n",
        "                greedy_result.add(p_key[-i])\n",
        "                if aux == b_:\n",
        "                    break\n",
        "        # restaura y agrega el mensaje\n",
        "        decypher_message += list(map(lambda x: 1 if x in greedy_result else 0, p_key))\n",
        "        # devuelve el texto simple\n",
        "    return bin_to_str(decypher_message)\n",
        "\n",
        "\n",
        "knapsack_decypher(encrypted, key)"
      ],
      "execution_count": 122,
      "outputs": [
        {
          "output_type": "execute_result",
          "data": {
            "application/vnd.google.colaboratory.intrinsic+json": {
              "type": "string"
            },
            "text/plain": [
              "'Pon tu nombre aqui'"
            ]
          },
          "metadata": {
            "tags": []
          },
          "execution_count": 122
        }
      ]
    },
    {
      "cell_type": "markdown",
      "metadata": {
        "id": "VYWv7IGoyVKe"
      },
      "source": [
        "## Actividad a relizar:\n",
        "\n",
        "El alumno debe leer el archivo de preguntas cifradas y hacer los cambios necesarios en la celda siguiente para conseguir descifrar las preguntas y contestarlas. Estas están cifradas mediante las claves:\n",
        "\n",
        "Llave pública: [  569  8298  4552  2750 12328 12516  9950 11643]\n",
        "\n",
        "Llave privada: [   2    5   16   58  140  624 2210 6276] 13751 7160\n",
        "\n",
        "Adicionalmente el alumno debe escribir sus respuestas sobre el mismo archivo txt y modificar la celda posterior para cifrar sus respuestas bajo la llave pública que aparece arriba."
      ]
    },
    {
      "cell_type": "code",
      "metadata": {
        "id": "bxXKB52f0cZo"
      },
      "source": [
        "key = []\n",
        "lines = []\n",
        "with open(\"Cambiame\", 'r') as f:\n",
        "       for i in range(10):\n",
        "         lines.append(eval(f.readline()))\n",
        "\n",
        "with open(\"Preguntas_descifradas.txt\", 'w') as f:\n",
        "  for i in range(10):\n",
        "    f.write(str(\"Aqui se decifra el archivo\")) "
      ],
      "execution_count": null,
      "outputs": []
    },
    {
      "cell_type": "code",
      "metadata": {
        "id": "2Z_5_9PGzy3p"
      },
      "source": [
        "key_pub = []\n",
        "with open(\"Respuestas_cifradas.txt\", '') as f:\n",
        "  for i in range(10):\n",
        "    f.write(str(\"Aquí se cifran tus respuestas\")+ \"\\n\")"
      ],
      "execution_count": null,
      "outputs": []
    },
    {
      "cell_type": "markdown",
      "metadata": {
        "id": "8YBoHpCrkRH2"
      },
      "source": [
        "## <font color=\"navy\"> Ejercicio 2: RSA </font>\n",
        "\n",
        "En este ejercicio se pide implementar un sistema de firma digital y verificación de la firma mediante el algoritmo RSA.\n",
        "\n",
        "Se deben realizar tres tareas:\n",
        "  1. Generación de claves\n",
        "  2. Generación de firma\n",
        "  3. Verificación de firma\n",
        "\n",
        "Para la generación de firma, se le introducirá un mensaje a cifrar (archivo) y el archivo con la clave (privada), y deberá generar una firma, que se guardará en un archivo de texto.\n",
        "\n",
        "Puesto que lo que realmente se firma no es el mensaje, sino un resumen del mensaje, hay que generar un resumen de dicho mensaje, Para esto emplearemos la función SHA1 (se pueden añadir otras funciones resumen)."
      ]
    },
    {
      "cell_type": "code",
      "metadata": {
        "id": "qpaDZ24Slv5d"
      },
      "source": [
        "from random import getrandbits\n",
        "from hashlib import sha1, sha256, sha512\n",
        "\n",
        "def get_hash(file, hash_f):\n",
        "    # calcular el hexhash de todo el archivo\n",
        "    # y convertirlo a base 10\n",
        "    if hash_f == 1:\n",
        "        file_hash = int(sha1(file.read()).hexdigest(), 16)\n",
        "    elif hash_f == 2:\n",
        "        file_hash = int(sha256(file.read()).hexdigest(), 16)\n",
        "    elif hash_f == 3:\n",
        "        file_hash = int(sha512(file.read()).hexdigest(), 16)\n",
        "    else:\n",
        "        raise ValueError(\"No es una opción adecuada para el algoritmo de resumen.\")\n",
        "        \n",
        "    return file_hash"
      ],
      "execution_count": 9,
      "outputs": []
    },
    {
      "cell_type": "code",
      "metadata": {
        "id": "f6A2uLaumSJl"
      },
      "source": [
        "\"\"\"\n",
        "                                    Search prime\n",
        "                        \n",
        "     Busca un número primo mayor que un número.\n",
        "     Este primo, dependiendo de los parámetros\n",
        "     tendrá la propiedad de que p y (p - 1) // 2 sean primos.\n",
        "     \n",
        "     Parametros:\n",
        "         - n: número inicial.\n",
        "         - mid_prime: busca un primo de manera que (p - 1) // 2 sea también primo.\n",
        "\"\"\"\n",
        "\n",
        "# busca un primo de manera que (p - 1) // 2 sea también primo (probablemente)\n",
        "def search_prime(n, mid_prime = True):\n",
        "    p = n if n % 2 != 0 else n + 1\n",
        "    if mid_prime:\n",
        "        while not (am.miller_rabin_test(p) and\n",
        "                   am.miller_rabin_test((p -1)//2)):\n",
        "                p +=2\n",
        "    else:\n",
        "        while not am.miller_rabin_test(p):\n",
        "            p += 2\n",
        "    return p\n",
        "\n",
        "\"\"\"\n",
        "                        Generador de claves RSA\n",
        "                        \n",
        "    Esta función crea un par de claves RSA\n",
        "    con una longitud fija. Primero busca dos primos\n",
        "    p y q, para obtener n.\n",
        "    \n",
        "    Entonces busca φ y e tal que gcd(e, φ(n)) = 1, y \n",
        "    computa d como e^{-1} mod φ(n)\n",
        "    \n",
        "    La llave privada es n y d, y la \n",
        "    llave pública es n y e.\n",
        "    \n",
        "    Parametros:\n",
        "            - length: longitud en bits de la clave.\n",
        "\"\"\"\n",
        "\n",
        "def generate_RSA_keys(length = 1024):\n",
        "    # Calcula los primos p y q\n",
        "    p = search_prime(getrandbits(length//2), False)\n",
        "    q = search_prime(getrandbits(length//2), False)\n",
        "    # Calcula φ(n), n y a corrige e\n",
        "    φ, n = (p - 1) * (q - 1), p * q\n",
        "    e = randint(n - φ, φ)\n",
        "    while am.ext_euclides(e, φ)[0] != 1:\n",
        "        e += 1\n",
        "    \n",
        "    # Calcula la llave privada\n",
        "    \n",
        "    d = am.inverse(e, φ) % φ\n",
        "\n",
        "    # Escriba la llave pública y la llave privada en archivos\n",
        "    with open(\"RSA_KEY.pub\", 'w') as f:\n",
        "        f.write(str(n) + \"\\n\" + str(e))\n",
        "    \n",
        "    with open(\"RSA_KEY\", 'w') as f:\n",
        "        f.write(str(n) + \"\\n\" + str(d))\n",
        "\n",
        "        \n",
        "generate_RSA_keys(2048)"
      ],
      "execution_count": 13,
      "outputs": []
    },
    {
      "cell_type": "code",
      "metadata": {
        "colab": {
          "base_uri": "https://localhost:8080/"
        },
        "id": "DXEJK9TlnxC-",
        "outputId": "9643d2d0-aa97-48f6-e7f6-a584eebcefe9"
      },
      "source": [
        "\"\"\"\n",
        "                            RSA_sign_document\n",
        "                    \n",
        "    Esta función toma un archivo y lo firma con\n",
        "    su clave RSA privada. La función calcula\n",
        "    el resumen del archivo con sha1, sha256 o\n",
        "    sha512 y firma este resumen con la clave privada.\n",
        "    \n",
        "    Luego, la firma se escribe en un archivo.\n",
        "    \n",
        "    Parametros:\n",
        "        - file: ruta al archivo.\n",
        "        - key: ruta al archivo con la clave privada\n",
        "        - hash_f: opción de número entero para el algoritmo de resumen\n",
        "\"\"\"\n",
        "\n",
        "def RSA_sign_document(file, key, hash_f = 1):\n",
        "    with open(file, 'rb') as f:\n",
        "        file_hash = get_hash(f, hash_f)\n",
        "            \n",
        "    with open(key, 'r') as f:\n",
        "        n = int(f.readline())\n",
        "        d = int(f.readline())\n",
        "    \n",
        "    # firma el documento sign(m) = h(m)^d mod n\n",
        "    sign = am.big_pow(file_hash, d, n)\n",
        "    # escribe la firma\n",
        "    with open(\"sign_of_\" + file, 'w') as f:\n",
        "        f.write(str(sign))\n",
        "    # la devolución es solo para ver que la función funciona bien\n",
        "    return sign\n",
        "\n",
        "RSA_sign_document(\"Cielito_lindo.txt\", \"RSA_KEY\", 3)"
      ],
      "execution_count": 14,
      "outputs": [
        {
          "output_type": "execute_result",
          "data": {
            "text/plain": [
              "665459917452247328771342180910363450882540397188940263483921753139599639958044561679357939561984602018128644021897588343753324473955049725717361471855521790831500201968929879465618347583150965028439721021817771207678931817891008527494896208300041754319334963022436041232388738831313800864724202417495751450259165637575353483127666110856770121948471050604212111050053112704728960929823117186740509884599823830503772365435031211868036594116912269378734461657043249428022322291961224749869177702372505912852991064034110269945252564552204304943757516884122059176471634769668462744934252363776665856547438337286072593271"
            ]
          },
          "metadata": {
            "tags": []
          },
          "execution_count": 14
        }
      ]
    },
    {
      "cell_type": "markdown",
      "metadata": {
        "id": "hgxeGFuBomhJ"
      },
      "source": [
        "Para la verificaión de la firma, se introduce el mensaje (archivo) que se ha firmado, un archivo con la firma (con el mismo formato que el generado en el apartado anterior) y un archivo con la clave (pública). Deberá responder si la firma es o no válida."
      ]
    },
    {
      "cell_type": "code",
      "metadata": {
        "colab": {
          "base_uri": "https://localhost:8080/"
        },
        "id": "0ASP3z0co_W7",
        "outputId": "3d06b5ff-9e2e-4a97-83d4-753cba6004be"
      },
      "source": [
        "\"\"\"\n",
        "                            RSA_check_sign\n",
        "                    \n",
        "    Esta función toma un archivo y comprueba si la firma\n",
        "    es correcta con la clave pública. Como en la función de\n",
        "    la firma, esta función calcula el resumen del archivo \n",
        "    con sha1, sha256 o sha512, luego calcula sign^e mod n \n",
        "    y comprueba si los valores hash son iguales.\n",
        "    \n",
        "    Parametros:\n",
        "        - sign_document: ruta a la firma.\n",
        "        - document: ruta al archivo del documento.\n",
        "        - key: ruta al archivo con la clave privada\n",
        "        - hash_f: opción de número entero para el algoritmo de resumen\n",
        "\"\"\"\n",
        "\n",
        "def RSA_check_sign(sign_document, document, public_key, hash_f = 1):\n",
        "    # obtener la firma\n",
        "    with open(sign_document, 'r') as f:\n",
        "        sign = int(f.read())\n",
        "    \n",
        "    # obtener la clave pública\n",
        "    with open(public_key, 'r') as f:\n",
        "        n = int(f.readline())\n",
        "        e = int(f.readline())\n",
        "    \n",
        "    # obtener el hash del documento\n",
        "    with open(document, 'rb') as f:\n",
        "        h_m = get_hash(f, hash_f) % n\n",
        "        \n",
        "    sign = am.big_pow(sign, e, n)\n",
        "    return h_m == sign\n",
        "    \n",
        "\n",
        "RSA_check_sign(\"sign_of_Cielito_lindo.txt\", \"Cielito_lindo.txt\", \"RSA_KEY.pub\", 3)"
      ],
      "execution_count": 15,
      "outputs": [
        {
          "output_type": "execute_result",
          "data": {
            "text/plain": [
              "True"
            ]
          },
          "metadata": {
            "tags": []
          },
          "execution_count": 15
        }
      ]
    },
    {
      "cell_type": "markdown",
      "metadata": {
        "id": "uEFWnvk9pFcl"
      },
      "source": [
        "Una vez obtenida la firma, para comprobar que la firma es correcta, el emisor y el receptor deben ponerse de acuerdo para el algoritmo que realiza el hash del mensaje, y una vez establecido, sólo hay que leer el documento que tiene la firma y obtener el hash original haciendo $h(m) = sign^e \\bmod n$. Una vez obtenido, hacemos el hash al fichero firmado y comprobamos si el hash que hemos calculado y hash obtenido de la firma coinciden. En caso de que sea así, la firma es correcta y en caso contrario, el fichero no pertenece al propietario que lo firmó."
      ]
    }
  ]
}